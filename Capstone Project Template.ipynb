{
 "cells": [
  {
   "cell_type": "markdown",
   "metadata": {
    "editable": true
   },
   "source": [
    "# Immigration data model\n",
    "### Data Engineering Capstone Project\n",
    "\n",
    "#### Project Summary\n",
    "I choose Udacity provided project focusing on immigration data model. The goal of this project is to find out where (states of US) immigrants choose as destinations, and from that we can find more information about these destinations.\n",
    "\n",
    "The project follows these steps:\n",
    "* Step 1: Scope the Project and Gather Data\n",
    "* Step 2: Explore and Assess the Data\n",
    "* Step 3: Define the Data Model\n",
    "* Step 4: Run ETL to Model the Data\n",
    "* Step 5: Complete Project Write Up"
   ]
  },
  {
   "cell_type": "code",
   "execution_count": 117,
   "metadata": {
    "editable": true
   },
   "outputs": [],
   "source": [
    "# Do all imports and installs here\n",
    "import pandas as pd\n",
    "import os\n",
    "from pyspark.sql import SparkSession\n",
    "import pyspark.sql.functions as F\n",
    "from pyspark.sql.functions import monotonically_increasing_id\n",
    "from pyspark.sql.functions import concat, col, lit\n",
    "from pyspark.sql.functions import regexp_replace\n",
    "from pyspark.sql.types import *"
   ]
  },
  {
   "cell_type": "markdown",
   "metadata": {
    "editable": true
   },
   "source": [
    "### Step 1: Scope the Project and Gather Data\n",
    "\n",
    "#### Scope \n",
    "- In this project, the main purpose is building a data schema and from that we can query to find out the answers for the questions like where immigrants choose to live or visit and the population in these places.\n",
    "- The data sets are used in this project:\n",
    "    - I94 Immigration Data    \n",
    "    - U.S. City Demographic Data\n",
    "- The project will be run locally on workspace and Spark will be used to pre-process and do ETL.   \n",
    "\n",
    "#### Describe and Gather Data \n",
    "- _I94 Immigration Data_: This data comes from the US National Tourism and Trade Office. You can read more about it [here](https://travel.trade.gov/research/reports/i94/historical/2016.html)\n",
    "    - You can access the immigration data in a folder with the following path: ../../data/18-83510-I94-Data-2016/. \n",
    "    - There's a file for each month of the year. An example file name is i94_apr16_sub.sas7bdat. Each file has a three-letter abbreviation for the month name. So a full file path for June would look like this: ../../data/18-83510-I94-Data-2016/i94_jun16_sub.sas7bdat. \n",
    "    - Below is what it would look like to import April file into pandas"
   ]
  },
  {
   "cell_type": "code",
   "execution_count": 118,
   "metadata": {
    "editable": true
   },
   "outputs": [
    {
     "data": {
      "text/html": [
       "<div>\n",
       "<style scoped>\n",
       "    .dataframe tbody tr th:only-of-type {\n",
       "        vertical-align: middle;\n",
       "    }\n",
       "\n",
       "    .dataframe tbody tr th {\n",
       "        vertical-align: top;\n",
       "    }\n",
       "\n",
       "    .dataframe thead th {\n",
       "        text-align: right;\n",
       "    }\n",
       "</style>\n",
       "<table border=\"1\" class=\"dataframe\">\n",
       "  <thead>\n",
       "    <tr style=\"text-align: right;\">\n",
       "      <th></th>\n",
       "      <th>cicid</th>\n",
       "      <th>i94yr</th>\n",
       "      <th>i94mon</th>\n",
       "      <th>i94cit</th>\n",
       "      <th>i94res</th>\n",
       "      <th>i94port</th>\n",
       "      <th>arrdate</th>\n",
       "      <th>i94mode</th>\n",
       "      <th>i94addr</th>\n",
       "      <th>depdate</th>\n",
       "      <th>...</th>\n",
       "      <th>entdepu</th>\n",
       "      <th>matflag</th>\n",
       "      <th>biryear</th>\n",
       "      <th>dtaddto</th>\n",
       "      <th>gender</th>\n",
       "      <th>insnum</th>\n",
       "      <th>airline</th>\n",
       "      <th>admnum</th>\n",
       "      <th>fltno</th>\n",
       "      <th>visatype</th>\n",
       "    </tr>\n",
       "  </thead>\n",
       "  <tbody>\n",
       "    <tr>\n",
       "      <th>0</th>\n",
       "      <td>6.0</td>\n",
       "      <td>2016.0</td>\n",
       "      <td>4.0</td>\n",
       "      <td>692.0</td>\n",
       "      <td>692.0</td>\n",
       "      <td>XXX</td>\n",
       "      <td>20573.0</td>\n",
       "      <td>NaN</td>\n",
       "      <td>NaN</td>\n",
       "      <td>NaN</td>\n",
       "      <td>...</td>\n",
       "      <td>U</td>\n",
       "      <td>NaN</td>\n",
       "      <td>1979.0</td>\n",
       "      <td>10282016</td>\n",
       "      <td>NaN</td>\n",
       "      <td>NaN</td>\n",
       "      <td>NaN</td>\n",
       "      <td>1.897628e+09</td>\n",
       "      <td>NaN</td>\n",
       "      <td>B2</td>\n",
       "    </tr>\n",
       "    <tr>\n",
       "      <th>1</th>\n",
       "      <td>7.0</td>\n",
       "      <td>2016.0</td>\n",
       "      <td>4.0</td>\n",
       "      <td>254.0</td>\n",
       "      <td>276.0</td>\n",
       "      <td>ATL</td>\n",
       "      <td>20551.0</td>\n",
       "      <td>1.0</td>\n",
       "      <td>AL</td>\n",
       "      <td>NaN</td>\n",
       "      <td>...</td>\n",
       "      <td>Y</td>\n",
       "      <td>NaN</td>\n",
       "      <td>1991.0</td>\n",
       "      <td>D/S</td>\n",
       "      <td>M</td>\n",
       "      <td>NaN</td>\n",
       "      <td>NaN</td>\n",
       "      <td>3.736796e+09</td>\n",
       "      <td>00296</td>\n",
       "      <td>F1</td>\n",
       "    </tr>\n",
       "    <tr>\n",
       "      <th>2</th>\n",
       "      <td>15.0</td>\n",
       "      <td>2016.0</td>\n",
       "      <td>4.0</td>\n",
       "      <td>101.0</td>\n",
       "      <td>101.0</td>\n",
       "      <td>WAS</td>\n",
       "      <td>20545.0</td>\n",
       "      <td>1.0</td>\n",
       "      <td>MI</td>\n",
       "      <td>20691.0</td>\n",
       "      <td>...</td>\n",
       "      <td>NaN</td>\n",
       "      <td>M</td>\n",
       "      <td>1961.0</td>\n",
       "      <td>09302016</td>\n",
       "      <td>M</td>\n",
       "      <td>NaN</td>\n",
       "      <td>OS</td>\n",
       "      <td>6.666432e+08</td>\n",
       "      <td>93</td>\n",
       "      <td>B2</td>\n",
       "    </tr>\n",
       "    <tr>\n",
       "      <th>3</th>\n",
       "      <td>16.0</td>\n",
       "      <td>2016.0</td>\n",
       "      <td>4.0</td>\n",
       "      <td>101.0</td>\n",
       "      <td>101.0</td>\n",
       "      <td>NYC</td>\n",
       "      <td>20545.0</td>\n",
       "      <td>1.0</td>\n",
       "      <td>MA</td>\n",
       "      <td>20567.0</td>\n",
       "      <td>...</td>\n",
       "      <td>NaN</td>\n",
       "      <td>M</td>\n",
       "      <td>1988.0</td>\n",
       "      <td>09302016</td>\n",
       "      <td>NaN</td>\n",
       "      <td>NaN</td>\n",
       "      <td>AA</td>\n",
       "      <td>9.246846e+10</td>\n",
       "      <td>00199</td>\n",
       "      <td>B2</td>\n",
       "    </tr>\n",
       "    <tr>\n",
       "      <th>4</th>\n",
       "      <td>17.0</td>\n",
       "      <td>2016.0</td>\n",
       "      <td>4.0</td>\n",
       "      <td>101.0</td>\n",
       "      <td>101.0</td>\n",
       "      <td>NYC</td>\n",
       "      <td>20545.0</td>\n",
       "      <td>1.0</td>\n",
       "      <td>MA</td>\n",
       "      <td>20567.0</td>\n",
       "      <td>...</td>\n",
       "      <td>NaN</td>\n",
       "      <td>M</td>\n",
       "      <td>2012.0</td>\n",
       "      <td>09302016</td>\n",
       "      <td>NaN</td>\n",
       "      <td>NaN</td>\n",
       "      <td>AA</td>\n",
       "      <td>9.246846e+10</td>\n",
       "      <td>00199</td>\n",
       "      <td>B2</td>\n",
       "    </tr>\n",
       "  </tbody>\n",
       "</table>\n",
       "<p>5 rows × 28 columns</p>\n",
       "</div>"
      ],
      "text/plain": [
       "   cicid   i94yr  i94mon  i94cit  i94res i94port  arrdate  i94mode i94addr  \\\n",
       "0    6.0  2016.0     4.0   692.0   692.0     XXX  20573.0      NaN     NaN   \n",
       "1    7.0  2016.0     4.0   254.0   276.0     ATL  20551.0      1.0      AL   \n",
       "2   15.0  2016.0     4.0   101.0   101.0     WAS  20545.0      1.0      MI   \n",
       "3   16.0  2016.0     4.0   101.0   101.0     NYC  20545.0      1.0      MA   \n",
       "4   17.0  2016.0     4.0   101.0   101.0     NYC  20545.0      1.0      MA   \n",
       "\n",
       "   depdate   ...     entdepu  matflag  biryear   dtaddto gender insnum  \\\n",
       "0      NaN   ...           U      NaN   1979.0  10282016    NaN    NaN   \n",
       "1      NaN   ...           Y      NaN   1991.0       D/S      M    NaN   \n",
       "2  20691.0   ...         NaN        M   1961.0  09302016      M    NaN   \n",
       "3  20567.0   ...         NaN        M   1988.0  09302016    NaN    NaN   \n",
       "4  20567.0   ...         NaN        M   2012.0  09302016    NaN    NaN   \n",
       "\n",
       "  airline        admnum  fltno visatype  \n",
       "0     NaN  1.897628e+09    NaN       B2  \n",
       "1     NaN  3.736796e+09  00296       F1  \n",
       "2      OS  6.666432e+08     93       B2  \n",
       "3      AA  9.246846e+10  00199       B2  \n",
       "4      AA  9.246846e+10  00199       B2  \n",
       "\n",
       "[5 rows x 28 columns]"
      ]
     },
     "execution_count": 118,
     "metadata": {},
     "output_type": "execute_result"
    }
   ],
   "source": [
    "fname = '../../data/18-83510-I94-Data-2016/i94_apr16_sub.sas7bdat'\n",
    "df = pd.read_sas(fname, 'sas7bdat', encoding=\"ISO-8859-1\")\n",
    "df.head()"
   ]
  },
  {
   "cell_type": "markdown",
   "metadata": {
    "editable": true
   },
   "source": [
    "- _U.S. City Demographic Data_: You can read more about it [here](https://public.opendatasoft.com/explore/dataset/us-cities-demographics/export/)\n",
    "    - The data is already uploaded to the workspace. Below is how it would look like to read the file into a pandas dataframe."
   ]
  },
  {
   "cell_type": "code",
   "execution_count": 119,
   "metadata": {
    "editable": true
   },
   "outputs": [
    {
     "data": {
      "text/html": [
       "<div>\n",
       "<style scoped>\n",
       "    .dataframe tbody tr th:only-of-type {\n",
       "        vertical-align: middle;\n",
       "    }\n",
       "\n",
       "    .dataframe tbody tr th {\n",
       "        vertical-align: top;\n",
       "    }\n",
       "\n",
       "    .dataframe thead th {\n",
       "        text-align: right;\n",
       "    }\n",
       "</style>\n",
       "<table border=\"1\" class=\"dataframe\">\n",
       "  <thead>\n",
       "    <tr style=\"text-align: right;\">\n",
       "      <th></th>\n",
       "      <th>City</th>\n",
       "      <th>State</th>\n",
       "      <th>Median Age</th>\n",
       "      <th>Male Population</th>\n",
       "      <th>Female Population</th>\n",
       "      <th>Total Population</th>\n",
       "      <th>Number of Veterans</th>\n",
       "      <th>Foreign-born</th>\n",
       "      <th>Average Household Size</th>\n",
       "      <th>State Code</th>\n",
       "      <th>Race</th>\n",
       "      <th>Count</th>\n",
       "    </tr>\n",
       "  </thead>\n",
       "  <tbody>\n",
       "    <tr>\n",
       "      <th>0</th>\n",
       "      <td>Silver Spring</td>\n",
       "      <td>Maryland</td>\n",
       "      <td>33.8</td>\n",
       "      <td>40601.0</td>\n",
       "      <td>41862.0</td>\n",
       "      <td>82463</td>\n",
       "      <td>1562.0</td>\n",
       "      <td>30908.0</td>\n",
       "      <td>2.60</td>\n",
       "      <td>MD</td>\n",
       "      <td>Hispanic or Latino</td>\n",
       "      <td>25924</td>\n",
       "    </tr>\n",
       "    <tr>\n",
       "      <th>1</th>\n",
       "      <td>Quincy</td>\n",
       "      <td>Massachusetts</td>\n",
       "      <td>41.0</td>\n",
       "      <td>44129.0</td>\n",
       "      <td>49500.0</td>\n",
       "      <td>93629</td>\n",
       "      <td>4147.0</td>\n",
       "      <td>32935.0</td>\n",
       "      <td>2.39</td>\n",
       "      <td>MA</td>\n",
       "      <td>White</td>\n",
       "      <td>58723</td>\n",
       "    </tr>\n",
       "    <tr>\n",
       "      <th>2</th>\n",
       "      <td>Hoover</td>\n",
       "      <td>Alabama</td>\n",
       "      <td>38.5</td>\n",
       "      <td>38040.0</td>\n",
       "      <td>46799.0</td>\n",
       "      <td>84839</td>\n",
       "      <td>4819.0</td>\n",
       "      <td>8229.0</td>\n",
       "      <td>2.58</td>\n",
       "      <td>AL</td>\n",
       "      <td>Asian</td>\n",
       "      <td>4759</td>\n",
       "    </tr>\n",
       "    <tr>\n",
       "      <th>3</th>\n",
       "      <td>Rancho Cucamonga</td>\n",
       "      <td>California</td>\n",
       "      <td>34.5</td>\n",
       "      <td>88127.0</td>\n",
       "      <td>87105.0</td>\n",
       "      <td>175232</td>\n",
       "      <td>5821.0</td>\n",
       "      <td>33878.0</td>\n",
       "      <td>3.18</td>\n",
       "      <td>CA</td>\n",
       "      <td>Black or African-American</td>\n",
       "      <td>24437</td>\n",
       "    </tr>\n",
       "    <tr>\n",
       "      <th>4</th>\n",
       "      <td>Newark</td>\n",
       "      <td>New Jersey</td>\n",
       "      <td>34.6</td>\n",
       "      <td>138040.0</td>\n",
       "      <td>143873.0</td>\n",
       "      <td>281913</td>\n",
       "      <td>5829.0</td>\n",
       "      <td>86253.0</td>\n",
       "      <td>2.73</td>\n",
       "      <td>NJ</td>\n",
       "      <td>White</td>\n",
       "      <td>76402</td>\n",
       "    </tr>\n",
       "  </tbody>\n",
       "</table>\n",
       "</div>"
      ],
      "text/plain": [
       "               City          State  Median Age  Male Population  \\\n",
       "0     Silver Spring       Maryland        33.8          40601.0   \n",
       "1            Quincy  Massachusetts        41.0          44129.0   \n",
       "2            Hoover        Alabama        38.5          38040.0   \n",
       "3  Rancho Cucamonga     California        34.5          88127.0   \n",
       "4            Newark     New Jersey        34.6         138040.0   \n",
       "\n",
       "   Female Population  Total Population  Number of Veterans  Foreign-born  \\\n",
       "0            41862.0             82463              1562.0       30908.0   \n",
       "1            49500.0             93629              4147.0       32935.0   \n",
       "2            46799.0             84839              4819.0        8229.0   \n",
       "3            87105.0            175232              5821.0       33878.0   \n",
       "4           143873.0            281913              5829.0       86253.0   \n",
       "\n",
       "   Average Household Size State Code                       Race  Count  \n",
       "0                    2.60         MD         Hispanic or Latino  25924  \n",
       "1                    2.39         MA                      White  58723  \n",
       "2                    2.58         AL                      Asian   4759  \n",
       "3                    3.18         CA  Black or African-American  24437  \n",
       "4                    2.73         NJ                      White  76402  "
      ]
     },
     "execution_count": 119,
     "metadata": {},
     "output_type": "execute_result"
    }
   ],
   "source": [
    "fname = 'us-cities-demographics.csv'\n",
    "df = pd.read_csv(fname, delimiter=';')\n",
    "df.head()"
   ]
  },
  {
   "cell_type": "markdown",
   "metadata": {
    "editable": true
   },
   "source": [
    "### Step 2: Explore and Assess the Data"
   ]
  },
  {
   "cell_type": "code",
   "execution_count": 120,
   "metadata": {
    "editable": true
   },
   "outputs": [],
   "source": [
    "# Use Spark to process data like droping duplicate data, cleaning data\n",
    "# Create SparkSession with configuration to enable loading sas7bdat data\n",
    "spark = SparkSession.builder.\\\n",
    "config(\"spark.jars.packages\",\"saurfang:spark-sas7bdat:2.0.0-s_2.11\").\\\n",
    "enableHiveSupport().getOrCreate()"
   ]
  },
  {
   "cell_type": "markdown",
   "metadata": {
    "editable": true
   },
   "source": [
    "#### 2.1. Working with I94 Immigration Data"
   ]
  },
  {
   "cell_type": "code",
   "execution_count": 121,
   "metadata": {
    "editable": true
   },
   "outputs": [
    {
     "data": {
      "text/plain": [
       "['i94_apr16_sub.sas7bdat',\n",
       " 'i94_sep16_sub.sas7bdat',\n",
       " 'i94_nov16_sub.sas7bdat',\n",
       " 'i94_mar16_sub.sas7bdat',\n",
       " 'i94_jun16_sub.sas7bdat',\n",
       " 'i94_aug16_sub.sas7bdat',\n",
       " 'i94_may16_sub.sas7bdat',\n",
       " 'i94_jan16_sub.sas7bdat',\n",
       " 'i94_oct16_sub.sas7bdat',\n",
       " 'i94_jul16_sub.sas7bdat',\n",
       " 'i94_feb16_sub.sas7bdat',\n",
       " 'i94_dec16_sub.sas7bdat']"
      ]
     },
     "execution_count": 121,
     "metadata": {},
     "output_type": "execute_result"
    }
   ],
   "source": [
    "# List all immigration files in the attached disk\n",
    "files = os.listdir('../../data/18-83510-I94-Data-2016/')\n",
    "files"
   ]
  },
  {
   "cell_type": "code",
   "execution_count": 122,
   "metadata": {
    "editable": true
   },
   "outputs": [],
   "source": [
    "# Read all sas7bdat files from the folder and write into sas_data folder in workspace\n",
    "# This reading and writing are only executed at the first time\n",
    "for file in files:\n",
    "    df_i94 =spark.read.format('com.github.saurfang.sas.spark').load('../../data/18-83510-I94-Data-2016/' + file)\n",
    "    df_i94.write.mode('append').parquet(\"sas_data\")"
   ]
  },
  {
   "cell_type": "code",
   "execution_count": 123,
   "metadata": {
    "editable": true
   },
   "outputs": [
    {
     "name": "stdout",
     "output_type": "stream",
     "text": [
      "40790529\n"
     ]
    }
   ],
   "source": [
    "# Read i94 dataframe \n",
    "df_i94 = spark.read.parquet(\"sas_data\")\n",
    "print(df_i94.count())"
   ]
  },
  {
   "cell_type": "code",
   "execution_count": 124,
   "metadata": {
    "editable": true
   },
   "outputs": [
    {
     "name": "stdout",
     "output_type": "stream",
     "text": [
      "root\n",
      " |-- cicid: double (nullable = true)\n",
      " |-- i94yr: double (nullable = true)\n",
      " |-- i94mon: double (nullable = true)\n",
      " |-- i94cit: double (nullable = true)\n",
      " |-- i94res: double (nullable = true)\n",
      " |-- i94port: string (nullable = true)\n",
      " |-- arrdate: double (nullable = true)\n",
      " |-- i94mode: double (nullable = true)\n",
      " |-- i94addr: string (nullable = true)\n",
      " |-- depdate: double (nullable = true)\n",
      " |-- i94bir: double (nullable = true)\n",
      " |-- i94visa: double (nullable = true)\n",
      " |-- count: double (nullable = true)\n",
      " |-- dtadfile: string (nullable = true)\n",
      " |-- visapost: string (nullable = true)\n",
      " |-- occup: string (nullable = true)\n",
      " |-- entdepa: string (nullable = true)\n",
      " |-- entdepd: string (nullable = true)\n",
      " |-- entdepu: string (nullable = true)\n",
      " |-- matflag: string (nullable = true)\n",
      " |-- biryear: double (nullable = true)\n",
      " |-- dtaddto: string (nullable = true)\n",
      " |-- gender: string (nullable = true)\n",
      " |-- insnum: string (nullable = true)\n",
      " |-- airline: string (nullable = true)\n",
      " |-- admnum: double (nullable = true)\n",
      " |-- fltno: string (nullable = true)\n",
      " |-- visatype: string (nullable = true)\n",
      "\n"
     ]
    }
   ],
   "source": [
    "df_i94.printSchema()"
   ]
  },
  {
   "cell_type": "markdown",
   "metadata": {
    "editable": true
   },
   "source": [
    "_Data dictionary_\n",
    "\n",
    "- cicid: Unique record ID\n",
    "- i94yr: 4 digit year\n",
    "- i94mon: Numeric month\n",
    "- i94cit: 3 digit code for immigrant city of birth\n",
    "- i94res: 3 digit code for immigrant country of residence\n",
    "- i94port: Port of admission\n",
    "- arrdate: Arrival Date in the USA\n",
    "- i94mode: Mode of transportation (1 = Air; 2 = Sea; 3 = Land; 9 = Not reported)\n",
    "- i94addr: USA State of arrival\n",
    "- depdate: Departure Date from the USA\n",
    "- i94bir: Age of Respondent in Years\n",
    "- i94visa: Visa codes collapsed into three categories\n",
    "- count: Field used for summary statistics\n",
    "- dtadfile: Character Date Field - Date added to I-94 Files\n",
    "- visapost: Department of State where where Visa was issued\n",
    "- occup: Occupation that will be performed in U.S\n",
    "- entdepa: Arrival Flag - admitted or paroled into the U.S.\n",
    "- entdepd: Departure Flag - Departed, lost I-94 or is deceased\n",
    "- entdepu: Update Flag - Either apprehended, overstayed, adjusted to perm residence\n",
    "- matflag: Match flag - Match of arrival and departure records\n",
    "- biryear: 4 digit year of birth\n",
    "- dtaddto: Character Date Field - Date to which admitted to U.S. (allowed to stay until)\n",
    "- gender: sex of immigrant\n",
    "- insnum: INS number\n",
    "- airline: Airline used to arrive in U.S.\n",
    "- admnum: Admission Number\n",
    "- fltno: Flight number of Airline used to arrive in U.S.\n",
    "- visatype: Class of admission legally admitting the non-immigrant to temporarily stay in U.S.\n"
   ]
  },
  {
   "cell_type": "markdown",
   "metadata": {
    "editable": true
   },
   "source": [
    "_For I94 Immigration data, we will:_\n",
    "- Drop rows with missing values in cicid, i94port, i94addr\n",
    "- Check the valid of port admission, USA State of arrival (i94port, i94addr)"
   ]
  },
  {
   "cell_type": "code",
   "execution_count": 125,
   "metadata": {
    "editable": true
   },
   "outputs": [
    {
     "name": "stdout",
     "output_type": "stream",
     "text": [
      "38762603\n"
     ]
    }
   ],
   "source": [
    "# Drop rows with missing values\n",
    "df_i94 = df_i94.dropna(how='all', subset='cicid')\n",
    "df_i94 = df_i94.dropna(how='all', subset='i94port')\n",
    "df_i94 = df_i94.dropna(how='all', subset='i94addr')\n",
    "print(df_i94.count())"
   ]
  },
  {
   "cell_type": "code",
   "execution_count": 126,
   "metadata": {
    "editable": true
   },
   "outputs": [
    {
     "name": "stdout",
     "output_type": "stream",
     "text": [
      "38735974\n"
     ]
    }
   ],
   "source": [
    "# From the list of vaid I94 port in text file, make a valid_port list so that we can filter the rows in dataframe that have valid ports\n",
    "valid_port = []\n",
    "with open(\"i94_port_valid.txt\") as f:\n",
    "    for line in f:        \n",
    "        valid_port.append(line[4:7])  \n",
    "\n",
    "df_i94 = df_i94.filter(df_i94[\"i94port\"].isin(list(valid_port)))\n",
    "\n",
    "print(df_i94.count())\n"
   ]
  },
  {
   "cell_type": "code",
   "execution_count": 127,
   "metadata": {
    "editable": true
   },
   "outputs": [
    {
     "name": "stdout",
     "output_type": "stream",
     "text": [
      "38334545\n"
     ]
    }
   ],
   "source": [
    "# From the list of vaid I94 state in text file, make a valid_state list so that we can filter the rows in dataframe that have valid state\n",
    "valid_state = []\n",
    "with open(\"i94_state_valid.txt\") as f:\n",
    "    for line in f:        \n",
    "        valid_state.append(line[2:4])  \n",
    "\n",
    "df_i94 = df_i94.filter(df_i94[\"i94addr\"].isin(list(valid_state)))\n",
    "\n",
    "print(df_i94.count())"
   ]
  },
  {
   "cell_type": "markdown",
   "metadata": {
    "editable": true
   },
   "source": [
    "_<u>Conclustion</u>: After cleaning some missing and invalid data, we still have 38,334,545 rows compared to 40,790,529 rows in the beginning_"
   ]
  },
  {
   "cell_type": "markdown",
   "metadata": {
    "editable": true
   },
   "source": [
    "#### 2.2. Working with U.S. City Demographic Data"
   ]
  },
  {
   "cell_type": "code",
   "execution_count": 128,
   "metadata": {
    "editable": true
   },
   "outputs": [
    {
     "name": "stdout",
     "output_type": "stream",
     "text": [
      "root\n",
      " |-- City: string (nullable = true)\n",
      " |-- State: string (nullable = true)\n",
      " |-- Median Age: double (nullable = true)\n",
      " |-- Male Population: integer (nullable = true)\n",
      " |-- Female Population: integer (nullable = true)\n",
      " |-- Total Population: integer (nullable = true)\n",
      " |-- Number of Veterans: integer (nullable = true)\n",
      " |-- Foreign-born: integer (nullable = true)\n",
      " |-- Average Household Size: double (nullable = true)\n",
      " |-- State Code: string (nullable = true)\n",
      " |-- Race: string (nullable = true)\n",
      " |-- Count: integer (nullable = true)\n",
      "\n"
     ]
    }
   ],
   "source": [
    "# Read Demographic dataframe \n",
    "df_city = spark.read.csv(\"us-cities-demographics.csv\", sep=';', header=True, inferSchema=True)\n",
    "df_city.printSchema()"
   ]
  },
  {
   "cell_type": "code",
   "execution_count": 129,
   "metadata": {
    "editable": true
   },
   "outputs": [
    {
     "data": {
      "text/plain": [
       "2891"
      ]
     },
     "execution_count": 129,
     "metadata": {},
     "output_type": "execute_result"
    }
   ],
   "source": [
    "df_city.count()"
   ]
  },
  {
   "cell_type": "markdown",
   "metadata": {
    "editable": true
   },
   "source": [
    "_For U.S. City Demographic Data, we will:_\n",
    "- Drop rows with missing values in City, State, State Code, Male Population, Female Population, Foreign-born\n",
    "- Check the valid of State, State Code"
   ]
  },
  {
   "cell_type": "code",
   "execution_count": 130,
   "metadata": {
    "editable": true
   },
   "outputs": [
    {
     "name": "stdout",
     "output_type": "stream",
     "text": [
      "2875\n"
     ]
    }
   ],
   "source": [
    "# Drop rows with missing values\n",
    "df_city = df_city.dropna(how='all', subset='City')\n",
    "df_city = df_city.dropna(how='all', subset='State')\n",
    "df_city = df_city.dropna(how='all', subset='State Code')\n",
    "df_city = df_city.dropna(how='all', subset='Male Population')\n",
    "df_city = df_city.dropna(how='all', subset='Female Population')\n",
    "df_city = df_city.dropna(how='all', subset='Foreign-born')\n",
    "df_city = df_city.dropna(how='all', subset='Median Age')\n",
    "\n",
    "print(df_city.count())"
   ]
  },
  {
   "cell_type": "code",
   "execution_count": 131,
   "metadata": {
    "editable": true
   },
   "outputs": [
    {
     "name": "stdout",
     "output_type": "stream",
     "text": [
      "2875\n"
     ]
    }
   ],
   "source": [
    "# From the list of vaid I94 state in text file, make a valid_state list so that we can filter the rows in dataframe that have valid state\n",
    "valid_state = []\n",
    "with open(\"i94_state_valid.txt\") as f:\n",
    "    for line in f:        \n",
    "        valid_state.append(line[2:4])  \n",
    "\n",
    "df_city = df_city.filter(df_city[\"State Code\"].isin(list(valid_state)))\n",
    "\n",
    "print(df_city.count())"
   ]
  },
  {
   "cell_type": "markdown",
   "metadata": {
    "editable": true
   },
   "source": [
    "_<u>Conclustion</u>: After cleaning some missing and invalid data, we still have 2875 rows compared to 2891 rows in the beginning_"
   ]
  },
  {
   "cell_type": "markdown",
   "metadata": {
    "editable": true
   },
   "source": [
    "### Step 3: Define the Data Model\n",
    "#### 3.1 Conceptual Data Model\n",
    "\n",
    "The first dimension table (dim_immigration) contains private information about immigrants like record id, year and month of entering US, country of residence, city of birth, birth year and gender  \n",
    "- immigration_id: unique id for the immigration dimension table \n",
    "- cicid: Unique record ID (may be for month)\n",
    "- i94yr: 4 digit year\n",
    "- i94mon: Numeric month\n",
    "- i94cit: 3 digit code for immigrant city of birth\n",
    "- i94res: 3 digit code for immigrant country of residence\n",
    "- biryear: 4 digit year of birth\n",
    "- gender: sex of immigrant\n",
    "\n",
    "The second dimension table (dim_visa) show three categories of visa code.\n",
    "- i94visa: visa code\n",
    "- visa_type: string\n",
    "    - 1 = Business\n",
    "    - 2 = Pleasure\n",
    "    - 3 = Student\n",
    "\n",
    "The third dimesion table (dim_city) contain all information from U.S. cities demographics data.\n",
    "- City\n",
    "- State\n",
    "- median_age\n",
    "- male_population\n",
    "- female_population\n",
    "- total_population\n",
    "- number_of_veterans\n",
    "- foreign_born\n",
    "- average_household_size\n",
    "- state_code\n",
    "- race \n",
    "- count\n",
    "\n",
    "The fourth dimension tabe (dim_state) contain some information about state as the aggregation.\n",
    "- State\n",
    "- state_code\n",
    "- male_population\n",
    "- female_population\n",
    "- total_population\n",
    "- foreign_born\n",
    "    \n",
    "The fact table will contain these columns (fact_immigration)\n",
    "- immigration_id: unique id for the immigration entry\n",
    "- i94visa: visa code\n",
    "- i94port: 3 character code of destination city\n",
    "- i94addr: USA State of arrival"
   ]
  },
  {
   "cell_type": "markdown",
   "metadata": {
    "editable": true
   },
   "source": [
    "#### 3.2 Mapping Out Data Pipelines\n",
    "\n",
    "The pipeline steps are described below:\n",
    "\n",
    "- Clean I94 data as described in step 2 to create Spark dataframe df_i94\n",
    "- Clean U.S Cities Demographics data as described in step 2 to create Spark dataframe df_city\n",
    "- Create dimension tables by selecting relevant columns from df_i94 and write to parquet files\n",
    "- Create fact table by selecting relevant columns from df_i94 and write to parquet file\n"
   ]
  },
  {
   "cell_type": "markdown",
   "metadata": {
    "editable": true
   },
   "source": [
    "### Step 4: Run Pipelines to Model the Data \n",
    "#### 4.1 Create the data model\n",
    "Build the data pipelines to create the data model.\n"
   ]
  },
  {
   "cell_type": "code",
   "execution_count": 132,
   "metadata": {
    "editable": true
   },
   "outputs": [],
   "source": [
    "# Add unique id for the immigration dimension table\n",
    "df_i94 = df_i94.withColumn('id', monotonically_increasing_id())\n",
    "df_i94 = df_i94.withColumn('immigration_id', concat(col(\"id\"), lit(\"immi\")))\n",
    "df_i94 = df_i94.drop('id')"
   ]
  },
  {
   "cell_type": "code",
   "execution_count": 133,
   "metadata": {
    "editable": true
   },
   "outputs": [
    {
     "data": {
      "text/plain": [
       "[Row(cicid=5680949.0, i94yr=2016.0, i94mon=7.0, i94cit=117.0, i94res=117.0, i94port='NYC', arrdate=20659.0, i94mode=1.0, i94addr='NY', depdate=None, i94bir=30.0, i94visa=3.0, count=1.0, dtadfile='20160724', visapost='NPL', occup=None, entdepa='G', entdepd=None, entdepu=None, matflag=None, biryear=1986.0, dtaddto='D/S', gender='F', insnum=None, airline='IG', admnum=2947450085.0, fltno='3940', visatype='F1', immigration_id='0immi'),\n",
       " Row(cicid=5680950.0, i94yr=2016.0, i94mon=7.0, i94cit=245.0, i94res=245.0, i94port='DET', arrdate=20659.0, i94mode=1.0, i94addr='IL', depdate=20679.0, i94bir=46.0, i94visa=2.0, count=1.0, dtadfile='20160813', visapost=None, occup=None, entdepa='G', entdepd='O', entdepu=None, matflag='M', biryear=1970.0, dtaddto='01232017', gender='M', insnum='78652', airline='DL', admnum=2947451085.0, fltno='188', visatype='B2', immigration_id='1immi'),\n",
       " Row(cicid=5680953.0, i94yr=2016.0, i94mon=7.0, i94cit=245.0, i94res=245.0, i94port='SEA', arrdate=20659.0, i94mode=1.0, i94addr='WA', depdate=20670.0, i94bir=36.0, i94visa=2.0, count=1.0, dtadfile='20160804', visapost=None, occup=None, entdepa='G', entdepd='O', entdepu=None, matflag='M', biryear=1980.0, dtaddto='01232017', gender='F', insnum='130660', airline='OZ', admnum=2947454785.0, fltno='272', visatype='B2', immigration_id='2immi'),\n",
       " Row(cicid=5680954.0, i94yr=2016.0, i94mon=7.0, i94cit=135.0, i94res=135.0, i94port='ORL', arrdate=20659.0, i94mode=1.0, i94addr='FL', depdate=20673.0, i94bir=17.0, i94visa=2.0, count=1.0, dtadfile='20160808', visapost=None, occup=None, entdepa='O', entdepd='O', entdepu=None, matflag='M', biryear=1999.0, dtaddto='10212016', gender='F', insnum='294090', airline='MT', admnum=2947455685.0, fltno='176', visatype='WT', immigration_id='3immi'),\n",
       " Row(cicid=5680956.0, i94yr=2016.0, i94mon=7.0, i94cit=213.0, i94res=213.0, i94port='MIA', arrdate=20659.0, i94mode=1.0, i94addr='FL', depdate=20728.0, i94bir=23.0, i94visa=2.0, count=1.0, dtadfile='20160724', visapost='HYD', occup=None, entdepa='G', entdepd='O', entdepu=None, matflag='M', biryear=1993.0, dtaddto='01232017', gender='M', insnum='21180', airline='QR', admnum=2947457485.0, fltno='777', visatype='B2', immigration_id='4immi')]"
      ]
     },
     "execution_count": 133,
     "metadata": {},
     "output_type": "execute_result"
    }
   ],
   "source": [
    "df_i94.take(5)"
   ]
  },
  {
   "cell_type": "markdown",
   "metadata": {
    "editable": true
   },
   "source": [
    "##### 4.1.1. Dimension Table: dim_immigration "
   ]
  },
  {
   "cell_type": "code",
   "execution_count": 134,
   "metadata": {
    "editable": true
   },
   "outputs": [],
   "source": [
    "# Extract columns for immigration dimension table\n",
    "dim_immigration = df_i94.select([\"immigration_id\", \"cicid\", \"i94yr\", \"i94mon\", \"i94cit\", \"i94res\", \"biryear\", \"gender\"])"
   ]
  },
  {
   "cell_type": "code",
   "execution_count": 135,
   "metadata": {
    "editable": true
   },
   "outputs": [
    {
     "data": {
      "text/plain": [
       "[Row(immigration_id='0immi', cicid=5680949.0, i94yr=2016.0, i94mon=7.0, i94cit=117.0, i94res=117.0, biryear=1986.0, gender='F'),\n",
       " Row(immigration_id='1immi', cicid=5680950.0, i94yr=2016.0, i94mon=7.0, i94cit=245.0, i94res=245.0, biryear=1970.0, gender='M'),\n",
       " Row(immigration_id='2immi', cicid=5680953.0, i94yr=2016.0, i94mon=7.0, i94cit=245.0, i94res=245.0, biryear=1980.0, gender='F'),\n",
       " Row(immigration_id='3immi', cicid=5680954.0, i94yr=2016.0, i94mon=7.0, i94cit=135.0, i94res=135.0, biryear=1999.0, gender='F'),\n",
       " Row(immigration_id='4immi', cicid=5680956.0, i94yr=2016.0, i94mon=7.0, i94cit=213.0, i94res=213.0, biryear=1993.0, gender='M')]"
      ]
     },
     "execution_count": 135,
     "metadata": {},
     "output_type": "execute_result"
    }
   ],
   "source": [
    "dim_immigration.take(5)"
   ]
  },
  {
   "cell_type": "code",
   "execution_count": 136,
   "metadata": {
    "editable": true
   },
   "outputs": [],
   "source": [
    "# Write immigration dimension table to \"results/dim_immigration\"\n",
    "dim_immigration.write.mode(\"overwrite\").parquet(\"results/dim_immigration\")"
   ]
  },
  {
   "cell_type": "markdown",
   "metadata": {
    "editable": true
   },
   "source": [
    "##### 4.1.2. Dimension Table: dim_visa "
   ]
  },
  {
   "cell_type": "code",
   "execution_count": 137,
   "metadata": {
    "editable": true
   },
   "outputs": [],
   "source": [
    "# Extract column i94visa for visa dimension table\n",
    "dim_visa = df_i94.select([\"i94visa\"]).distinct()"
   ]
  },
  {
   "cell_type": "code",
   "execution_count": 138,
   "metadata": {
    "editable": true
   },
   "outputs": [],
   "source": [
    "def visafunc(value):\n",
    "  if   value == 1: \n",
    "      return 'Business'\n",
    "  elif value == 2:\n",
    "      return 'Pleasure'\n",
    "  elif value == 3:\n",
    "      return 'Student'\n",
    "    \n",
    "#convert to a udf function by passing in the function and return type of function\n",
    "udf_visafunc = F.udf(visafunc, StringType())\n",
    "dim_visa = dim_visa.withColumn(\"visa_type\", udf_visafunc(\"i94visa\"))"
   ]
  },
  {
   "cell_type": "code",
   "execution_count": 139,
   "metadata": {
    "editable": true
   },
   "outputs": [
    {
     "name": "stdout",
     "output_type": "stream",
     "text": [
      "+-------+---------+\n",
      "|i94visa|visa_type|\n",
      "+-------+---------+\n",
      "|    1.0| Business|\n",
      "|    3.0|  Student|\n",
      "|    2.0| Pleasure|\n",
      "+-------+---------+\n",
      "\n"
     ]
    }
   ],
   "source": [
    "dim_visa.show()"
   ]
  },
  {
   "cell_type": "code",
   "execution_count": 140,
   "metadata": {
    "editable": true
   },
   "outputs": [],
   "source": [
    "# Write visa dimension table to \"results/dim_visa\"\n",
    "dim_visa.write.mode(\"overwrite\").parquet(\"results/dim_visa\")"
   ]
  },
  {
   "cell_type": "markdown",
   "metadata": {
    "editable": true
   },
   "source": [
    "##### 4.1.3. Dimension Table: dim_city"
   ]
  },
  {
   "cell_type": "code",
   "execution_count": 141,
   "metadata": {
    "editable": true
   },
   "outputs": [],
   "source": [
    "# Copy the whole dataframe df_city for city dimension table and rename it\n",
    "dim_city = df_city\n",
    "dim_city = dim_city.withColumnRenamed('Median Age','median_age') \\\n",
    "                .withColumnRenamed('Male Population', 'male_population') \\\n",
    "                .withColumnRenamed('Female Population', 'female_population') \\\n",
    "                .withColumnRenamed('Total Population', 'total_population') \\\n",
    "                .withColumnRenamed('Number of Veterans', 'number_of_veterans') \\\n",
    "                .withColumnRenamed('Foreign-born', 'foreign_born') \\\n",
    "                .withColumnRenamed('Average Household Size', 'average_household_size') \\\n",
    "                .withColumnRenamed('State Code', 'state_code')"
   ]
  },
  {
   "cell_type": "code",
   "execution_count": 142,
   "metadata": {
    "editable": true
   },
   "outputs": [
    {
     "data": {
      "text/plain": [
       "[Row(City='Silver Spring', State='Maryland', median_age=33.8, male_population=40601, female_population=41862, total_population=82463, number_of_veterans=1562, foreign_born=30908, average_household_size=2.6, state_code='MD', Race='Hispanic or Latino', Count=25924),\n",
       " Row(City='Quincy', State='Massachusetts', median_age=41.0, male_population=44129, female_population=49500, total_population=93629, number_of_veterans=4147, foreign_born=32935, average_household_size=2.39, state_code='MA', Race='White', Count=58723),\n",
       " Row(City='Hoover', State='Alabama', median_age=38.5, male_population=38040, female_population=46799, total_population=84839, number_of_veterans=4819, foreign_born=8229, average_household_size=2.58, state_code='AL', Race='Asian', Count=4759),\n",
       " Row(City='Rancho Cucamonga', State='California', median_age=34.5, male_population=88127, female_population=87105, total_population=175232, number_of_veterans=5821, foreign_born=33878, average_household_size=3.18, state_code='CA', Race='Black or African-American', Count=24437),\n",
       " Row(City='Newark', State='New Jersey', median_age=34.6, male_population=138040, female_population=143873, total_population=281913, number_of_veterans=5829, foreign_born=86253, average_household_size=2.73, state_code='NJ', Race='White', Count=76402)]"
      ]
     },
     "execution_count": 142,
     "metadata": {},
     "output_type": "execute_result"
    }
   ],
   "source": [
    "dim_city.take(5)"
   ]
  },
  {
   "cell_type": "code",
   "execution_count": 143,
   "metadata": {
    "editable": true
   },
   "outputs": [],
   "source": [
    "# Add unique id for city dimension table\n",
    "dim_city = dim_city.withColumn('id', monotonically_increasing_id())"
   ]
  },
  {
   "cell_type": "code",
   "execution_count": 144,
   "metadata": {
    "editable": true
   },
   "outputs": [],
   "source": [
    "# Write city dimension table to \"results/dim_city\"\n",
    "dim_city.write.mode(\"overwrite\").parquet(\"results/dim_city\")"
   ]
  },
  {
   "cell_type": "markdown",
   "metadata": {
    "editable": true
   },
   "source": [
    "##### 4.1.4. Dimension Table: dim_state"
   ]
  },
  {
   "cell_type": "code",
   "execution_count": 145,
   "metadata": {
    "editable": true
   },
   "outputs": [],
   "source": [
    "dim_state = dim_city.select([\"State\", \"state_code\", \"male_population\", \"female_population\", \"total_population\", \"foreign_born\"])"
   ]
  },
  {
   "cell_type": "code",
   "execution_count": 146,
   "metadata": {
    "editable": true
   },
   "outputs": [
    {
     "name": "stdout",
     "output_type": "stream",
     "text": [
      "root\n",
      " |-- State: string (nullable = true)\n",
      " |-- state_code: string (nullable = true)\n",
      " |-- sum(male_population): long (nullable = true)\n",
      " |-- sum(female_population): long (nullable = true)\n",
      " |-- sum(total_population): long (nullable = true)\n",
      " |-- sum(foreign_born): long (nullable = true)\n",
      "\n"
     ]
    }
   ],
   "source": [
    "\n",
    "dim_state = dim_state.groupBy([\"State\", \"state_code\"]).sum()\n",
    "dim_state.printSchema()"
   ]
  },
  {
   "cell_type": "code",
   "execution_count": 147,
   "metadata": {
    "editable": true
   },
   "outputs": [],
   "source": [
    "dim_state = dim_state.withColumnRenamed('sum(male_population)', 'male_population') \\\n",
    "                .withColumnRenamed('sum(female_population)', 'female_population') \\\n",
    "                .withColumnRenamed('sum(total_population)', 'total_population') \\\n",
    "                .withColumnRenamed('sum(foreign_born)', 'foreign_born') "
   ]
  },
  {
   "cell_type": "code",
   "execution_count": 148,
   "metadata": {
    "editable": true
   },
   "outputs": [
    {
     "name": "stdout",
     "output_type": "stream",
     "text": [
      "root\n",
      " |-- State: string (nullable = true)\n",
      " |-- state_code: string (nullable = true)\n",
      " |-- male_population: long (nullable = true)\n",
      " |-- female_population: long (nullable = true)\n",
      " |-- total_population: long (nullable = true)\n",
      " |-- foreign_born: long (nullable = true)\n",
      "\n"
     ]
    }
   ],
   "source": [
    "dim_state.printSchema()"
   ]
  },
  {
   "cell_type": "code",
   "execution_count": 149,
   "metadata": {
    "editable": true
   },
   "outputs": [],
   "source": [
    "# Write state dimension table to \"results/dim_state\"\n",
    "dim_city.write.mode(\"overwrite\").parquet(\"results/dim_state\")"
   ]
  },
  {
   "cell_type": "markdown",
   "metadata": {
    "editable": true
   },
   "source": [
    "##### 4.1.5. Fact Table: fact_immigration"
   ]
  },
  {
   "cell_type": "code",
   "execution_count": 150,
   "metadata": {
    "editable": true
   },
   "outputs": [],
   "source": [
    "# Extract columns for immigration fact table\n",
    "fact_immigration = df_i94.select([\"immigration_id\", \"i94visa\", \"i94port\", \"i94addr\"])\n",
    "fact_immigration = fact_immigration.withColumn(\"id\", monotonically_increasing_id())"
   ]
  },
  {
   "cell_type": "code",
   "execution_count": 151,
   "metadata": {
    "editable": true
   },
   "outputs": [
    {
     "data": {
      "text/plain": [
       "[Row(immigration_id='0immi', i94visa=3.0, i94port='NYC', i94addr='NY', id=0),\n",
       " Row(immigration_id='1immi', i94visa=2.0, i94port='DET', i94addr='IL', id=1),\n",
       " Row(immigration_id='2immi', i94visa=2.0, i94port='SEA', i94addr='WA', id=2),\n",
       " Row(immigration_id='3immi', i94visa=2.0, i94port='ORL', i94addr='FL', id=3),\n",
       " Row(immigration_id='4immi', i94visa=2.0, i94port='MIA', i94addr='FL', id=4)]"
      ]
     },
     "execution_count": 151,
     "metadata": {},
     "output_type": "execute_result"
    }
   ],
   "source": [
    "fact_immigration.take(5)"
   ]
  },
  {
   "cell_type": "code",
   "execution_count": 152,
   "metadata": {
    "editable": true
   },
   "outputs": [],
   "source": [
    "# Write fact table to \"results/fact_immigration\"\n",
    "fact_immigration.write.mode(\"overwrite\").parquet(\"results/fact_immigration\")"
   ]
  },
  {
   "cell_type": "markdown",
   "metadata": {
    "editable": true
   },
   "source": [
    "#### 4.2 Data Quality Checks\n",
    "The data quality checks ensures that the ETL has created fact and dimension tables with adequate records."
   ]
  },
  {
   "cell_type": "code",
   "execution_count": 116,
   "metadata": {
    "editable": true
   },
   "outputs": [
    {
     "name": "stdout",
     "output_type": "stream",
     "text": [
      "Data quality check passed for dim_immigration with 2,915,506 records.\n",
      "Data quality check passed for dim_visa with 3 records.\n",
      "Data quality check passed for dim_city with 2,875 records.\n",
      "Data quality check passed for dim_state with 48 records.\n",
      "Data quality check passed for fact_immigration with 2,915,506 records.\n"
     ]
    }
   ],
   "source": [
    "df_tables = {\n",
    "    'dim_immigration': dim_immigration,\n",
    "    'dim_visa': dim_visa,\n",
    "    'dim_city':  dim_city,\n",
    "    'dim_state': dim_state,\n",
    "    'fact_immigration': fact_immigration\n",
    "}\n",
    "\n",
    "\n",
    "for df_name, df_table in df_tables.items():\n",
    "    total_rows = df_table.count()    \n",
    "    if total_rows == 0:\n",
    "        print(f\"Data quality check failed for {df_name} with zero records!\")\n",
    "    else:\n",
    "        print(f\"Data quality check passed for {df_name} with {total_rows:,} records.\")    \n",
    "    "
   ]
  },
  {
   "cell_type": "markdown",
   "metadata": {
    "editable": true
   },
   "source": [
    "#### 4.3 Data dictionary \n",
    "__dim_immigration table__\n",
    "- mmigration_id: unique id for the immigration dimension table\n",
    "- cicid: Unique record ID (may be for month)\n",
    "- i94yr: 4 digit year\n",
    "- i94mon: Numeric month\n",
    "- i94cit: 3 digit code for immigrant city of birth\n",
    "- i94res: 3 digit code for immigrant country of residence\n",
    "- biryear: 4 digit year of birth\n",
    "- gender: sex of immigrant\n",
    "\n",
    "\n",
    "__dim_visa table__\n",
    "- i94visa: visa code\n",
    "- visa_type: string\n",
    "    - Business (i94visa = 1)\n",
    "    - Pleasure (i94visa = 2)\n",
    "    - Student (i94visa = 3)\n",
    "\n",
    "__dim_city__\n",
    "- City: City's name\n",
    "- State: State's name\n",
    "- median_age: median age of city\n",
    "- male_population: number of men in the city\n",
    "- female_population: number of women in the city\n",
    "- total_population: number of persons in the city\n",
    "- number_of_veterans: number of veterans in the city\n",
    "- foreign_born: number of foreign-born persons in the city\n",
    "- average_household_size: average household size\n",
    "- state_code: two-letter code for state\n",
    "- race: White, Hispanic or Latino, Asian, Black or African-American, or American Indian and Alaska Native\n",
    "- count: number of people of that race in the city\n",
    "\n",
    "__dim_state__\n",
    "\n",
    "- State: State's name\n",
    "- state_code: two-letter code for state\n",
    "- male population: number of men in the city\n",
    "- female population: number of women in the city\n",
    "- total population: number of persons in the city\n",
    "- foreign_born:  number of foreign-born persons in the city\n",
    "\n",
    "__fact_immigration__\n",
    "- immigration_id: unique id for the immigration entry\n",
    "- i94visa: visa code\n",
    "- i94port: 3 character code of destination city\n",
    "- i94addr: USA State of arrival\n"
   ]
  },
  {
   "cell_type": "markdown",
   "metadata": {
    "editable": true
   },
   "source": [
    "#### Step 5: Complete Project Write Up\n",
    "- Clearly state the rationale for the choice of tools and technologies for the project.\n",
    "    - Spark is used in this project for some reasons:\n",
    "        - It is robust in processing big data\n",
    "        - it can handle different file formats        \n",
    "    - Python is used because it is fast and easy to work with data and different APIs\n",
    "    \n",
    "- Propose how often the data should be updated and why.\n",
    "    - The data should be updated monthly, according to the i94 immigration file stored\n",
    "    \n",
    "- Write a description of how you would approach the problem differently under the following scenarios:\n",
    "    - The data was increased by 100x.\n",
    "        - In this case, Spark on Cloud like EMR, and storing data on AWS S3 could be a good choice        \n",
    "    - The data populates a dashboard that must be updated on a daily basis by 7am every day.\n",
    "        - Apache Airflow can be used to schedule workflow        \n",
    "    - The database needed to be accessed by 100+ people.\n",
    "        - HDFS can be used in this scenario, because HDFS is a distributed file system which guarantees fault tolerance"
   ]
  },
  {
   "cell_type": "code",
   "execution_count": null,
   "metadata": {
    "editable": true
   },
   "outputs": [],
   "source": []
  }
 ],
 "metadata": {
  "kernelspec": {
   "display_name": "Python 3",
   "language": "python",
   "name": "python3"
  },
  "language_info": {
   "codemirror_mode": {
    "name": "ipython",
    "version": 3
   },
   "file_extension": ".py",
   "mimetype": "text/x-python",
   "name": "python",
   "nbconvert_exporter": "python",
   "pygments_lexer": "ipython3",
   "version": "3.6.3"
  }
 },
 "nbformat": 4,
 "nbformat_minor": 4
}
